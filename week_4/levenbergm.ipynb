{
 "cells": [
  {
   "cell_type": "code",
   "execution_count": 2,
   "metadata": {},
   "outputs": [],
   "source": [
    "def machineEpsilon(func=np.float64):\n",
    "    machine_epsilon = func(1)\n",
    "    while func(1)+machine_epsilon != func(1):\n",
    "        machine_epsilon_last = machine_epsilon\n",
    "        machine_epsilon = func(machine_epsilon) / func(2)\n",
    "    return machine_epsilon_last\n",
    "\n",
    "sqeps = np.sqrt(machineEpsilon())"
   ]
  },
  {
   "cell_type": "code",
   "execution_count": 14,
   "metadata": {},
   "outputs": [
    {
     "data": {
      "text/plain": [
       "array([[ 8.31056085e-06,  5.50603036e-02, -5.79247412e-03],\n",
       "       [ 5.50603036e-02,  4.44455944e+02, -4.26081628e+01],\n",
       "       [-5.79247412e-03, -4.26081628e+01,  4.30031921e+00]])"
      ]
     },
     "execution_count": 14,
     "metadata": {},
     "output_type": "execute_result"
    }
   ],
   "source": [
    "import numpy as np\n",
    "import matplotlib.pyplot as plt\n",
    "%matplotlib widget\n",
    "\n",
    "x = np.array([0, 25, 50, 75, 100, 125, 150, 175, 200])\n",
    "y = np.array([10.6, 16.0, 45.0, 83.5, 52.8, 19.9, 10.8, 8.25, 4.7])\n",
    "rho = np.array([2.3, 3.5, 4.5, 6.4, 4.4, 3.4, 2.1, 1.6, 1.1])\n",
    "\n",
    "#starting valuse\n",
    "a = np.array([60000, 70, 55])\n",
    "\n",
    "#fitting function breit wigner\n",
    "def f(x, a):\n",
    "    return a[0]/((a[1] - x)**2 + a[2])\n",
    "\n",
    "#function to calculate the chi2\n",
    "def chi2(x, y, rho, a):\n",
    "    return np.sum(((y - f(x, a))/rho))\n",
    "\n",
    "#derivative\n",
    "def achi2(chi2, x, y, a, rho, h=sqeps):\n",
    "    j = np.zeros(len(a))\n",
    "    ak = np.zeros(len(a))\n",
    "    for i in range(len(a)):\n",
    "        ak[i] = np.sum((y - f(x, a))/rho**2 * (f(x, a+ h * np.eye(len(a))[i]) - f(x, a - h * np.eye(len(a))[i]))/(2*h))\n",
    "    return ak\n",
    "\n",
    "# alpha\n",
    "\n",
    "def alpha(chi2, x, y, a, rho, h=sqeps):\n",
    "    ap = np.zeros((len(a), len(a)))\n",
    "    for i in range(len(a)):\n",
    "        for j in range(len(a)):\n",
    "            ap[i, j] = np.sum(((f(x, a + h * np.eye(len(a))[i]) - f(x, a - h * np.eye(len(a))[i]))/(2*h) * (f(x, a + h * np.eye(len(a))[j]) - f(x, a - h * np.eye(len(a))[j]))/(2*h)/rho**2))\n",
    "    return ap\n",
    "\n",
    "#Hessian\n",
    "def Hessian(chi2, x, y, a, rho, h=sqeps):\n",
    "    H = np.zeros((len(a), len(a)))\n",
    "    for i in range(len(a)):\n",
    "        for j in range(len(a)):\n",
    "            H[i, j] = (chi2(x, y, rho, a + h * np.eye(len(a))[i] ) - chi2(x, y, rho, a + h * np.eye(len(a))[i] - h * np.eye(len(a))[j]) - chi2(x, y, rho, a - h * np.eye(len(a))[i] + h * np.eye(len(a))[j]) + chi2(x, y, rho, a - h * np.eye(len(a))[i] - h * np.eye(len(a))[j])) / (4 * h**2)\n",
    "    return H\n",
    "\n",
    "alpha(chi2, x, y, a, rho)\n",
    "\n",
    "\n"
   ]
  }
 ],
 "metadata": {
  "kernelspec": {
   "display_name": "Python 3.10.6 64-bit",
   "language": "python",
   "name": "python3"
  },
  "language_info": {
   "codemirror_mode": {
    "name": "ipython",
    "version": 3
   },
   "file_extension": ".py",
   "mimetype": "text/x-python",
   "name": "python",
   "nbconvert_exporter": "python",
   "pygments_lexer": "ipython3",
   "version": "3.10.6"
  },
  "orig_nbformat": 4,
  "vscode": {
   "interpreter": {
    "hash": "31f2aee4e71d21fbe5cf8b01ff0e069b9275f58929596ceb00d14d90e3e16cd6"
   }
  }
 },
 "nbformat": 4,
 "nbformat_minor": 2
}
