{
 "cells": [
  {
   "cell_type": "code",
   "execution_count": 9,
   "metadata": {},
   "outputs": [
    {
     "name": "stdout",
     "output_type": "stream",
     "text": [
      "0.9999999999924434 0.9999999999993832\n",
      "6.013349962060532e-21 1.4025306033863094e-22\n",
      "299791999.9977346 299791999.99981505 3.0239885426941354e+19\n"
     ]
    }
   ],
   "source": [
    "import numpy as np\n",
    "\n",
    "e = 1.602e-19\n",
    "e0 = 8.854e-12\n",
    "N = 3e4\n",
    "me = 9.109e-31\n",
    "w1 = 2*np.pi*400e6\n",
    "w2 = 2*np.pi*1400e6\n",
    "t = 0.7\n",
    "c = 2.99792e8\n",
    "\n",
    "def n(w):\n",
    "    return np.sqrt(1 - (N*e**2)/(e0*me*w**2))\n",
    "\n",
    "# differentiate n(w) to get dn/dw\n",
    "def dn(w):\n",
    "    return 1/(2*np.sqrt(1 - (N*e**2)/(e0*me*w**2)))*2*N*e**2/(e0*me*w**(3))\n",
    "\n",
    "v1 =c/(n(w1) + dn(w1)*w1)\n",
    "v2 =c/(n(w2) + dn(w2)*w2)\n",
    "x = t/(1/v1 - 1/v2)\n",
    "\n",
    "print(n(w1), n(w2))\n",
    "print(dn(w1), dn(w2))\n",
    "print(v1, v2, x)"
   ]
  }
 ],
 "metadata": {
  "kernelspec": {
   "display_name": "Python 3.10.6 64-bit",
   "language": "python",
   "name": "python3"
  },
  "language_info": {
   "codemirror_mode": {
    "name": "ipython",
    "version": 3
   },
   "file_extension": ".py",
   "mimetype": "text/x-python",
   "name": "python",
   "nbconvert_exporter": "python",
   "pygments_lexer": "ipython3",
   "version": "3.10.6"
  },
  "orig_nbformat": 4,
  "vscode": {
   "interpreter": {
    "hash": "31f2aee4e71d21fbe5cf8b01ff0e069b9275f58929596ceb00d14d90e3e16cd6"
   }
  }
 },
 "nbformat": 4,
 "nbformat_minor": 2
}
