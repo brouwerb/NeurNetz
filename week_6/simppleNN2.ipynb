{
 "cells": [
  {
   "cell_type": "code",
   "execution_count": 1,
   "metadata": {},
   "outputs": [
    {
     "name": "stdout",
     "output_type": "stream",
     "text": [
      "loss before training:  92.29910139548997\n",
      "w1:  [[ 0.12546511  0.5504845 ]\n",
      " [-0.08830182 -1.31100646]\n",
      " [-0.66612432 -2.4378961 ]\n",
      " [ 0.70431987 -0.7548917 ]]\n",
      "wOut:  [-1.06676123 -0.46282117 -0.52540156  0.35733721]\n",
      "b1:  [-0.24709268 -0.48455495 -0.28209035 -0.39579022]\n",
      "grad_win1:  [[-54.51998391 -54.51998959]\n",
      " [-54.51999385 -54.5199967 ]\n",
      " [-54.51999101 -54.51998248]\n",
      " [-54.51999385 -54.51998959]]\n",
      "grad_wout1:  [54.35991142 54.35991994 54.35991426 54.35991852]\n",
      "grad_b1:  [32.98603275 32.98603701 32.98602991 32.98603559]\n"
     ]
    }
   ],
   "source": [
    "import numpy as np\n",
    "import matplotlib.pyplot as plt\n",
    "import matplotlib.animation as animation\n",
    "\n",
    "%matplotlib widget\n",
    "# Define the sigmoid function\n",
    "def sigmoid(x):\n",
    "    return np.tanh(x)\n",
    "\n",
    "def z(x, w, b):\n",
    "    return np.dot(x.T, w.T) - b\n",
    "\n",
    "#define output of neuron\n",
    "def output(x, win, wout, b):\n",
    "    return np.dot(sigmoid(z(x, win, b)), wout.T)\n",
    "\n",
    "# calculate loss function\n",
    "def loss(x, win, wout, b):\n",
    "    sum = 0\n",
    "    for i in x.T:\n",
    "        sum += (np.sign(i[0]*i[1]) - output(i, win, wout, b))**2\n",
    "\n",
    "    return sum\n",
    "\n",
    "# calculate gradient of win numerically\n",
    "def grad_win1(x, win, wout, b):\n",
    "    grad = np.zeros(win.shape)\n",
    "    for i in range(win.shape[0]):\n",
    "        for j in range(win.shape[1]):\n",
    "            win[i][j] += 0.00000001\n",
    "            grad[i][j] = (loss(x, win, wout, b) - loss(x, win - 0.00000001, wout, b))/0.00000001\n",
    "            win[i][j] -= 0.00000001\n",
    "    return grad\n",
    "\n",
    "# calculate gradient of wout numerically\n",
    "def grad_wout1(x, win, wout, b):\n",
    "    grad = np.zeros(wout.shape)\n",
    "    for i in range(wout.shape[0]):\n",
    "        wout[i] += 0.00000001\n",
    "        grad[i] = (loss(x, win, wout, b) - loss(x, win, wout - 0.00000001, b))/0.00000001\n",
    "        wout[i] -= 0.00000001\n",
    "    return grad\n",
    "\n",
    "# calculate gradient of b numerically\n",
    "def grad_b1(x, win, wout, b):\n",
    "    grad = np.zeros(b.shape)\n",
    "    for i in range(b.shape[0]):\n",
    "        b[i] += 0.00000001\n",
    "        grad[i] = (loss(x, win, wout, b) - loss(x, win, wout, b - 0.00000001))/0.00000001\n",
    "        b[i] -= 0.00000001\n",
    "    return grad\n",
    "\n",
    "\n",
    "# update weights randomly\n",
    "def update_weights(x, win, wout, b, lr):\n",
    "    win = win + lr * grad_win1(x, win, wout, b)*random(win.shape)\n",
    "    wout = wout + lr * grad_wout1(x, win, wout, b)*random(wout.shape)\n",
    "    b = b + lr * grad_b1(x, win, wout, b)*random(b.shape)\n",
    "    return win, wout, b\n",
    "\n",
    "n_inputs = 2\n",
    "n_hidden1 = 4\n",
    "\n",
    "# generate data x0 ist x value, x1 is y value\n",
    "xdata = np.random.uniform(-5, 5, (2, 100))\n",
    "\n",
    "# random selection\n",
    "def random(shape):\n",
    "    return np.sign(np.random.uniform(-0.8, 0.2, shape))*0.5 + 0.5\n",
    "\n",
    "\n",
    "\n",
    "\n",
    "#input weights\n",
    "# first input neuron, second outout neuron\n",
    "w1 = np.random.randn(n_inputs, n_hidden1).T\n",
    "#bias\n",
    "b1 = np.random.randn(n_hidden1)\n",
    "#output weights\n",
    "wOut = np.random.randn(n_hidden1)\n",
    "counter = 0\n",
    "print(\"loss before training: \", loss(xdata, w1, wOut, b1))\n",
    "print(\"w1: \", w1)\n",
    "print(\"wOut: \", wOut)\n",
    "print(\"b1: \", b1)\n",
    "print(\"grad_win1: \", grad_win1(xdata, w1, wOut, b1))\n",
    "print(\"grad_wout1: \", grad_wout1(xdata, w1, wOut, b1))\n",
    "print(\"grad_b1: \", grad_b1(xdata, w1, wOut, b1))"
   ]
  },
  {
   "cell_type": "code",
   "execution_count": 11,
   "metadata": {},
   "outputs": [
    {
     "data": {
      "application/vnd.jupyter.widget-view+json": {
       "model_id": "7d0f6bcf16084c23ad16808889e00a80",
       "version_major": 2,
       "version_minor": 0
      },
      "image/png": "[encoded data removed]",
      "text/html": [
       "\n",
       "            <div style=\"display: inline-block;\">\n",
       "                <div class=\"jupyter-widgets widget-label\" style=\"text-align: center;\">\n",
       "                    Figure\n",
       "                </div>\n",
       "                <img src='data:image/png;base64,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' width=640.0/>\n",
       "            </div>\n",
       "        "
      ],
      "text/plain": [
       "Canvas(toolbar=Toolbar(toolitems=[('Home', 'Reset original view', 'home', 'home'), ('Back', 'Back to previous …"
      ]
     },
     "metadata": {},
     "output_type": "display_data"
    }
   ],
   "source": [
    "x = np.linspace(-5, 5, 100)\n",
    "y = np.linspace(-5, 5, 100)\n",
    "X, Y = np.meshgrid(x, y)\n",
    "Z = np.zeros((100, 100))\n",
    "\n",
    "def animate(i):\n",
    "    global w1, b1, wOut, counter\n",
    "    for i in range(1):\n",
    "        w1, wOut, b1 = update_weights(xdata, w1, wOut, b1, 0.003)\n",
    "    ax.clear()\n",
    "    counter += 1\n",
    "    #plot contour\n",
    "\n",
    "    for i in range(100):\n",
    "        for j in range(100):\n",
    "            Z[i, j] = output(np.array([X[i, j], Y[i, j]]), w1, wOut, b1)\n",
    "    ax.pcolor(X, Y, Z, cmap='RdBu', vmin=-1, vmax=1)\n",
    "    ax.scatter(xdata[0], xdata[1], c=np.sign(xdata[0]*xdata[1]))\n",
    "\n",
    "    ax.set_title(\"loss: \" + str(loss(xdata, w1, wOut, b1)))\n",
    "\n",
    "\n",
    "# plot data while training\n",
    "fig = plt.figure()\n",
    "ax = fig.add_subplot(111)\n",
    "ax.set_aspect('equal')\n",
    "ax.grid()\n",
    "ax.set_title('Training')\n",
    "ax.set_xlabel('x')\n",
    "ax.set_ylabel('y')\n",
    "ani = animation.FuncAnimation(fig, animate, frames=100, interval=3, repeat=False)\n",
    "plt.show()\n",
    "# fn = 'neuro'\n",
    "# ani.save(fn+'.gif',writer='ffmpeg')\n",
    "# plt.rcParams['animation.html'] = 'html5'\n",
    "# ani\n",
    "\n"
   ]
  }
 ],
 "metadata": {
  "kernelspec": {
   "display_name": "Python 3.10.6 64-bit",
   "language": "python",
   "name": "python3"
  },
  "language_info": {
   "codemirror_mode": {
    "name": "ipython",
    "version": 3
   },
   "file_extension": ".py",
   "mimetype": "text/x-python",
   "name": "python",
   "nbconvert_exporter": "python",
   "pygments_lexer": "ipython3",
   "version": "3.10.6"
  },
  "orig_nbformat": 4,
  "vscode": {
   "interpreter": {
    "hash": "31f2aee4e71d21fbe5cf8b01ff0e069b9275f58929596ceb00d14d90e3e16cd6"
   }
  }
 },
 "nbformat": 4,
 "nbformat_minor": 2
}
