{
 "cells": [
  {
   "cell_type": "code",
   "execution_count": 4,
   "metadata": {},
   "outputs": [
    {
     "ename": "ValueError",
     "evalue": "shapes (4,) and (100,) not aligned: 4 (dim 0) != 100 (dim 0)",
     "output_type": "error",
     "traceback": [
      "\u001b[0;31m---------------------------------------------------------------------------\u001b[0m",
      "\u001b[0;31mValueError\u001b[0m                                Traceback (most recent call last)",
      "\u001b[1;32m/home/benedict/Studium/NeurNetz/week_6/NNipynb.ipynb Cell 1\u001b[0m in \u001b[0;36m<cell line: 28>\u001b[0;34m()\u001b[0m\n\u001b[1;32m     <a href='vscode-notebook-cell:/home/benedict/Studium/NeurNetz/week_6/NNipynb.ipynb#W0sZmlsZQ%3D%3D?line=24'>25</a>\u001b[0m y \u001b[39m=\u001b[39m np\u001b[39m.\u001b[39mrandom\u001b[39m.\u001b[39muniform(\u001b[39m-\u001b[39m\u001b[39m5\u001b[39m, \u001b[39m5\u001b[39m, \u001b[39m100\u001b[39m)\n\u001b[1;32m     <a href='vscode-notebook-cell:/home/benedict/Studium/NeurNetz/week_6/NNipynb.ipynb#W0sZmlsZQ%3D%3D?line=25'>26</a>\u001b[0m t \u001b[39m=\u001b[39m np\u001b[39m.\u001b[39msign(x\u001b[39m*\u001b[39my)\n\u001b[0;32m---> <a href='vscode-notebook-cell:/home/benedict/Studium/NeurNetz/week_6/NNipynb.ipynb#W0sZmlsZQ%3D%3D?line=27'>28</a>\u001b[0m \u001b[39mprint\u001b[39m(loss(x, y, t))\n",
      "\u001b[1;32m/home/benedict/Studium/NeurNetz/week_6/NNipynb.ipynb Cell 1\u001b[0m in \u001b[0;36mloss\u001b[0;34m(x, y, t)\u001b[0m\n\u001b[1;32m     <a href='vscode-notebook-cell:/home/benedict/Studium/NeurNetz/week_6/NNipynb.ipynb#W0sZmlsZQ%3D%3D?line=17'>18</a>\u001b[0m \u001b[39mdef\u001b[39;00m \u001b[39mloss\u001b[39m(x, y, t):\n\u001b[0;32m---> <a href='vscode-notebook-cell:/home/benedict/Studium/NeurNetz/week_6/NNipynb.ipynb#W0sZmlsZQ%3D%3D?line=18'>19</a>\u001b[0m     \u001b[39mreturn\u001b[39;00m np\u001b[39m.\u001b[39msum((output(x, y) \u001b[39m-\u001b[39m t)\u001b[39m*\u001b[39m\u001b[39m*\u001b[39m\u001b[39m2\u001b[39m)\u001b[39m/\u001b[39m(\u001b[39m2\u001b[39m\u001b[39m*\u001b[39mx\u001b[39m.\u001b[39mshape[\u001b[39m0\u001b[39m])\n",
      "\u001b[1;32m/home/benedict/Studium/NeurNetz/week_6/NNipynb.ipynb Cell 1\u001b[0m in \u001b[0;36moutput\u001b[0;34m(x, y)\u001b[0m\n\u001b[1;32m     <a href='vscode-notebook-cell:/home/benedict/Studium/NeurNetz/week_6/NNipynb.ipynb#W0sZmlsZQ%3D%3D?line=14'>15</a>\u001b[0m \u001b[39mdef\u001b[39;00m \u001b[39moutput\u001b[39m(x, y):\n\u001b[0;32m---> <a href='vscode-notebook-cell:/home/benedict/Studium/NeurNetz/week_6/NNipynb.ipynb#W0sZmlsZQ%3D%3D?line=15'>16</a>\u001b[0m     \u001b[39mreturn\u001b[39;00m np\u001b[39m.\u001b[39mdot(wO\u001b[39m.\u001b[39mT, sigmoid(np\u001b[39m.\u001b[39;49mdot(w1, x) \u001b[39m+\u001b[39m np\u001b[39m.\u001b[39mdot(w2, y) \u001b[39m+\u001b[39m b))\n",
      "File \u001b[0;32m<__array_function__ internals>:180\u001b[0m, in \u001b[0;36mdot\u001b[0;34m(*args, **kwargs)\u001b[0m\n",
      "\u001b[0;31mValueError\u001b[0m: shapes (4,) and (100,) not aligned: 4 (dim 0) != 100 (dim 0)"
     ]
    }
   ],
   "source": [
    "import numpy as np\n",
    "import matplotlib.pyplot as plt\n",
    "\n",
    "w1 = np.random.uniform(-1, 1, 4)\n",
    "w2 = np.random.uniform(-1, 1, 4)\n",
    "wO = np.random.uniform(-1, 1, 4)\n",
    "b = np.random.uniform(-1, 1, 4)\n",
    "\n",
    "def sigmoid(x):\n",
    "    return 1 / (1 + np.exp(-x))\n",
    "\n",
    "def sigmoid_derivative(x):\n",
    "    return sigmoid(x) * (1 - sigmoid(x))\n",
    "\n",
    "def output(x, y):\n",
    "    return np.dot(wO.T, sigmoid(np.dot(w1, x) + np.dot(w2, y) + b))\n",
    "\n",
    "def loss(x, y, t):\n",
    "    return np.sum((output(x, y) - t)**2)/(2*x.shape[0])\n",
    "\n",
    "def loss_derivativew1(x, y, t):\n",
    "    return 2 * (output(x, y) - t) * sigmoid_derivative(np.dot(w1, x) + np.dot(w2, y) + b) * w0 * x\n",
    "\n",
    "x = np.random.uniform(-5, 5, 100)\n",
    "y = np.random.uniform(-5, 5, 100)\n",
    "t = np.sign(x*y)\n",
    "\n",
    "print(loss(x, y, t))\n",
    "\n",
    "\n"
   ]
  }
 ],
 "metadata": {
  "kernelspec": {
   "display_name": "Python 3.10.6 64-bit",
   "language": "python",
   "name": "python3"
  },
  "language_info": {
   "codemirror_mode": {
    "name": "ipython",
    "version": 3
   },
   "file_extension": ".py",
   "mimetype": "text/x-python",
   "name": "python",
   "nbconvert_exporter": "python",
   "pygments_lexer": "ipython3",
   "version": "3.10.6"
  },
  "orig_nbformat": 4,
  "vscode": {
   "interpreter": {
    "hash": "31f2aee4e71d21fbe5cf8b01ff0e069b9275f58929596ceb00d14d90e3e16cd6"
   }
  }
 },
 "nbformat": 4,
 "nbformat_minor": 2
}
