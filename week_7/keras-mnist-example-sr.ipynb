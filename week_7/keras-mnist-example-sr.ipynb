{
 "cells": [
  {
   "cell_type": "markdown",
   "metadata": {},
   "source": [
    "<h2>Simple MNIST convnet - SR Nov21</h2>c.f. https://keras.io/examples/vision/mnist_convnet/"
   ]
  },
  {
   "cell_type": "code",
   "execution_count": 1,
   "metadata": {},
   "outputs": [],
   "source": [
    "import numpy as np\n",
    "from tensorflow import keras\n",
    "from tensorflow.keras import layers"
   ]
  },
  {
   "cell_type": "code",
   "execution_count": 2,
   "metadata": {},
   "outputs": [
    {
     "name": "stdout",
     "output_type": "stream",
     "text": [
      "Downloading data from https://storage.googleapis.com/tensorflow/tf-keras-datasets/mnist.npz\n",
      "11493376/11490434 [==============================] - 0s 0us/step\n",
      "x_train shape: (60000, 28, 28, 1)\n",
      "60000 train samples\n",
      "10000 test samples\n"
     ]
    }
   ],
   "source": [
    "num_classes = 10\n",
    "input_shape = (28, 28, 1)\n",
    "(x_train, y_train), (x_test, y_test) = keras.datasets.mnist.load_data()\n",
    "\n",
    "# Scale images to the [0, 1] range\n",
    "x_train = x_train.astype(\"float32\") / 255\n",
    "x_test = x_test.astype(\"float32\") / 255\n",
    "# Make sure images have shape (28, 28, 1)\n",
    "x_train = np.expand_dims(x_train, -1)\n",
    "x_test = np.expand_dims(x_test, -1)\n",
    "print(\"x_train shape:\", x_train.shape)\n",
    "print(x_train.shape[0], \"train samples\")\n",
    "print(x_test.shape[0], \"test samples\")\n",
    "\n",
    "# convert class vectors to binary class matrices\n",
    "y_train = keras.utils.to_categorical(y_train, num_classes)\n",
    "y_test = keras.utils.to_categorical(y_test, num_classes)"
   ]
  },
  {
   "cell_type": "code",
   "execution_count": 9,
   "metadata": {},
   "outputs": [
    {
     "name": "stdout",
     "output_type": "stream",
     "text": [
      "WARNING:tensorflow:Please add `keras.layers.InputLayer` instead of `keras.Input` to Sequential model. `keras.Input` is intended to be used by Functional model.\n",
      "Model: \"sequential_3\"\n",
      "_________________________________________________________________\n",
      "Layer (type)                 Output Shape              Param #   \n",
      "=================================================================\n",
      "conv2d_6 (Conv2D)            (None, 26, 26, 32)        320       \n",
      "_________________________________________________________________\n",
      "max_pooling2d_6 (MaxPooling2 (None, 13, 13, 32)        0         \n",
      "_________________________________________________________________\n",
      "conv2d_7 (Conv2D)            (None, 11, 11, 64)        18496     \n",
      "_________________________________________________________________\n",
      "max_pooling2d_7 (MaxPooling2 (None, 5, 5, 64)          0         \n",
      "_________________________________________________________________\n",
      "flatten_3 (Flatten)          (None, 1600)              0         \n",
      "_________________________________________________________________\n",
      "dropout_3 (Dropout)          (None, 1600)              0         \n",
      "_________________________________________________________________\n",
      "dense_3 (Dense)              (None, 10)                16010     \n",
      "=================================================================\n",
      "Total params: 34,826\n",
      "Trainable params: 34,826\n",
      "Non-trainable params: 0\n",
      "_________________________________________________________________\n"
     ]
    }
   ],
   "source": [
    "model = keras.Sequential(\n",
    "    [   layers.Input(shape=input_shape),\n",
    "        layers.Conv2D(32, kernel_size=(3, 3), activation=\"relu\"),\n",
    "        layers.MaxPooling2D(pool_size=(2, 2)),\n",
    "        layers.Conv2D(64, kernel_size=(3, 3), activation=\"relu\"),\n",
    "        layers.MaxPooling2D(pool_size=(2, 2)),\n",
    "        layers.Flatten(),\n",
    "        layers.Dropout(0.5),\n",
    "        layers.Dense(num_classes, activation=\"softmax\"),\n",
    "    ])\n",
    "model.summary()"
   ]
  },
  {
   "cell_type": "code",
   "execution_count": 34,
   "metadata": {},
   "outputs": [
    {
     "name": "stdout",
     "output_type": "stream",
     "text": [
      "Epoch 1/15\n",
      "422/422 [==============================] - 7s 17ms/step - loss: 0.0455 - accuracy: 0.9853 - val_loss: 0.0349 - val_accuracy: 0.9910\n",
      "Epoch 2/15\n",
      "422/422 [==============================] - 7s 16ms/step - loss: 0.0420 - accuracy: 0.9870 - val_loss: 0.0320 - val_accuracy: 0.9922\n",
      "Epoch 3/15\n",
      "422/422 [==============================] - 7s 16ms/step - loss: 0.0410 - accuracy: 0.9870 - val_loss: 0.0301 - val_accuracy: 0.9922\n",
      "Epoch 4/15\n",
      "422/422 [==============================] - 7s 16ms/step - loss: 0.0385 - accuracy: 0.9875 - val_loss: 0.0277 - val_accuracy: 0.9925\n",
      "Epoch 5/15\n",
      "422/422 [==============================] - 7s 16ms/step - loss: 0.0370 - accuracy: 0.9885 - val_loss: 0.0291 - val_accuracy: 0.9923\n",
      "Epoch 6/15\n",
      "422/422 [==============================] - 7s 17ms/step - loss: 0.0353 - accuracy: 0.9887 - val_loss: 0.0279 - val_accuracy: 0.9922\n",
      "Epoch 7/15\n",
      "422/422 [==============================] - 7s 17ms/step - loss: 0.0328 - accuracy: 0.9893 - val_loss: 0.0275 - val_accuracy: 0.9923\n",
      "Epoch 8/15\n",
      "422/422 [==============================] - 7s 17ms/step - loss: 0.0316 - accuracy: 0.9901 - val_loss: 0.0295 - val_accuracy: 0.9922\n",
      "Epoch 9/15\n",
      "422/422 [==============================] - 7s 16ms/step - loss: 0.0305 - accuracy: 0.9897 - val_loss: 0.0272 - val_accuracy: 0.9922\n",
      "Epoch 10/15\n",
      "422/422 [==============================] - 7s 16ms/step - loss: 0.0298 - accuracy: 0.9898 - val_loss: 0.0271 - val_accuracy: 0.9923\n",
      "Epoch 11/15\n",
      "422/422 [==============================] - 7s 16ms/step - loss: 0.0289 - accuracy: 0.9903 - val_loss: 0.0272 - val_accuracy: 0.9922\n",
      "Epoch 12/15\n",
      "422/422 [==============================] - 7s 16ms/step - loss: 0.0275 - accuracy: 0.9908 - val_loss: 0.0269 - val_accuracy: 0.9922\n",
      "Epoch 13/15\n",
      "422/422 [==============================] - 7s 17ms/step - loss: 0.0256 - accuracy: 0.9916 - val_loss: 0.0277 - val_accuracy: 0.9928\n",
      "Epoch 14/15\n",
      "422/422 [==============================] - 7s 17ms/step - loss: 0.0253 - accuracy: 0.9914 - val_loss: 0.0256 - val_accuracy: 0.9922\n",
      "Epoch 15/15\n",
      "422/422 [==============================] - 7s 17ms/step - loss: 0.0251 - accuracy: 0.9918 - val_loss: 0.0258 - val_accuracy: 0.9925\n"
     ]
    },
    {
     "data": {
      "text/plain": [
       "<tensorflow.python.keras.callbacks.History at 0x7fd6615cbdc0>"
      ]
     },
     "execution_count": 34,
     "metadata": {},
     "output_type": "execute_result"
    }
   ],
   "source": [
    "batch_size = 128\n",
    "epochs = 15\n",
    "model.compile(loss=\"categorical_crossentropy\", optimizer=\"adam\", metrics=[\"accuracy\"])\n",
    "model.fit(x_train, y_train, batch_size=batch_size, epochs=epochs, validation_split=0.1)"
   ]
  },
  {
   "cell_type": "code",
   "execution_count": 17,
   "metadata": {},
   "outputs": [
    {
     "name": "stdout",
     "output_type": "stream",
     "text": [
      "Test loss: 0.029487106949090958\n",
      "Test accuracy: 0.9886999726295471\n"
     ]
    }
   ],
   "source": [
    "score = model.evaluate(x_test, y_test, verbose=0)\n",
    "print(\"Test loss:\", score[0])\n",
    "print(\"Test accuracy:\", score[1])"
   ]
  },
  {
   "cell_type": "markdown",
   "metadata": {},
   "source": [
    "OK, now let us play with the network and supply it with our own data..."
   ]
  },
  {
   "cell_type": "code",
   "execution_count": 24,
   "metadata": {},
   "outputs": [
    {
     "data": {
      "text/plain": [
       "((10000, 28, 28, 1), (10000, 10))"
      ]
     },
     "execution_count": 24,
     "metadata": {},
     "output_type": "execute_result"
    }
   ],
   "source": [
    "x_test.shape, y_test.shape"
   ]
  },
  {
   "cell_type": "code",
   "execution_count": 31,
   "metadata": {},
   "outputs": [
    {
     "data": {
      "text/plain": [
       "array([[1.6251480e-09, 4.3673240e-10, 2.1971598e-06, 1.3731418e-06,\n",
       "        4.4243136e-13, 2.4493607e-10, 1.9594806e-16, 9.9999630e-01,\n",
       "        5.6071374e-09, 1.2497229e-07]], dtype=float32)"
      ]
     },
     "execution_count": 31,
     "metadata": {},
     "output_type": "execute_result"
    }
   ],
   "source": [
    "model.predict(x_test[0].reshape(1,28,28,1))"
   ]
  },
  {
   "cell_type": "code",
   "execution_count": 33,
   "metadata": {},
   "outputs": [
    {
     "data": {
      "text/plain": [
       "array([[1.6251480e-09, 4.3673240e-10, 2.1971598e-06, 1.3731418e-06,\n",
       "        4.4243136e-13, 2.4493607e-10, 1.9594806e-16, 9.9999630e-01,\n",
       "        5.6071374e-09, 1.2497229e-07]], dtype=float32)"
      ]
     },
     "execution_count": 33,
     "metadata": {},
     "output_type": "execute_result"
    }
   ],
   "source": [
    "test=1-np.fromfile('test-image2.data',dtype=np.ubyte)/255\n",
    "model.predict(x_test[0].reshape(1,28,28,1))"
   ]
  },
  {
   "cell_type": "code",
   "execution_count": null,
   "metadata": {},
   "outputs": [],
   "source": []
  }
 ],
 "metadata": {
  "kernelspec": {
   "display_name": "Python 3",
   "language": "python",
   "name": "python3"
  },
  "language_info": {
   "codemirror_mode": {
    "name": "ipython",
    "version": 3
   },
   "file_extension": ".py",
   "mimetype": "text/x-python",
   "name": "python",
   "nbconvert_exporter": "python",
   "pygments_lexer": "ipython3",
   "version": "3.8.10"
  }
 },
 "nbformat": 4,
 "nbformat_minor": 4
}
