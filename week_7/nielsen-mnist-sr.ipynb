{
 "cells": [
  {
   "cell_type": "markdown",
   "metadata": {},
   "source": [
    "<h2>Playing with Nielsen's NIST code - SR Nov 2011</h2>\n",
    "I had to modify network.py (trivial) and mnist_loader.py to work with Python3."
   ]
  },
  {
   "cell_type": "code",
   "execution_count": 1,
   "metadata": {
    "scrolled": true
   },
   "outputs": [],
   "source": [
    "import mnist_loader\n",
    "training_data, validation_data, test_data = mnist_loader.load_data_wrapper()"
   ]
  },
  {
   "cell_type": "code",
   "execution_count": 3,
   "metadata": {},
   "outputs": [],
   "source": [
    "import network"
   ]
  },
  {
   "cell_type": "code",
   "execution_count": 4,
   "metadata": {},
   "outputs": [],
   "source": [
    "net = network.Network([784, 30, 10])"
   ]
  },
  {
   "cell_type": "code",
   "execution_count": 5,
   "metadata": {},
   "outputs": [
    {
     "name": "stdout",
     "output_type": "stream",
     "text": [
      "Epoch 0: 9167 / 10000\n",
      "Epoch 1: 9295 / 10000\n",
      "Epoch 2: 9341 / 10000\n",
      "Epoch 3: 9361 / 10000\n",
      "Epoch 4: 9396 / 10000\n",
      "Epoch 5: 9420 / 10000\n",
      "Epoch 6: 9434 / 10000\n",
      "Epoch 7: 9447 / 10000\n",
      "Epoch 8: 9463 / 10000\n",
      "Epoch 9: 9437 / 10000\n"
     ]
    }
   ],
   "source": [
    "net.SGD(training_data, 10, 10, 3.0, test_data=test_data)"
   ]
  },
  {
   "cell_type": "markdown",
   "metadata": {},
   "source": [
    "Depending on the random initialisation, we get about 95% on the test data right. To play with this, let us extract one imange and run it through the network - almost 100% that this is a 7 - the correct result."
   ]
  },
  {
   "cell_type": "code",
   "execution_count": 6,
   "metadata": {},
   "outputs": [],
   "source": [
    "xtest,ytest=test_data[0]"
   ]
  },
  {
   "cell_type": "code",
   "execution_count": 7,
   "metadata": {},
   "outputs": [
    {
     "data": {
      "image/png": "[encoded data removed]",
      "text/plain": [
       "<Figure size 432x288 with 1 Axes>"
      ]
     },
     "metadata": {
      "needs_background": "light"
     },
     "output_type": "display_data"
    }
   ],
   "source": [
    "import matplotlib.pyplot as plt\n",
    "plt.imshow(xtest.reshape(28,28),cmap='binary')\n",
    "plt.show()"
   ]
  },
  {
   "cell_type": "code",
   "execution_count": 8,
   "metadata": {},
   "outputs": [
    {
     "data": {
      "text/plain": [
       "(array([[8.42220351e-08],\n",
       "        [4.33495792e-06],\n",
       "        [1.28814951e-03],\n",
       "        [3.25315548e-05],\n",
       "        [9.58351829e-09],\n",
       "        [6.35991980e-03],\n",
       "        [5.32966506e-11],\n",
       "        [9.99625722e-01],\n",
       "        [4.19155783e-09],\n",
       "        [1.24618664e-04]]),\n",
       " 7)"
      ]
     },
     "execution_count": 8,
     "metadata": {},
     "output_type": "execute_result"
    }
   ],
   "source": [
    "net.feedforward(xtest),ytest"
   ]
  },
  {
   "cell_type": "markdown",
   "metadata": {},
   "source": [
    "Now, let us run the network on hand-drawn figures. Greyscale 28x28 images exported as raw data from GIMP can be imported as unsigned 8bit, inverted, rescaled and then reshaped to (781,1), i.e. a vector of vectors of length 1 (instead of a plain vector)."
   ]
  },
  {
   "cell_type": "code",
   "execution_count": 9,
   "metadata": {},
   "outputs": [
    {
     "data": {
      "image/png": "[encoded data removed]",
      "text/plain": [
       "<Figure size 432x288 with 1 Axes>"
      ]
     },
     "metadata": {
      "needs_background": "light"
     },
     "output_type": "display_data"
    }
   ],
   "source": [
    "import numpy as np\n",
    "test=1-np.fromfile('test-image2.data',dtype=np.ubyte)/255\n",
    "plt.imshow(test.reshape(28,28),cmap='binary')\n",
    "plt.show()"
   ]
  },
  {
   "cell_type": "code",
   "execution_count": 16,
   "metadata": {},
   "outputs": [
    {
     "data": {
      "text/plain": [
       "array([[9.71896057e-05],\n",
       "       [6.22108490e-07],\n",
       "       [2.56472818e-06],\n",
       "       [1.64169715e-03],\n",
       "       [4.13088476e-05],\n",
       "       [9.97932182e-01],\n",
       "       [1.40247744e-09],\n",
       "       [3.58218042e-07],\n",
       "       [4.13523621e-03],\n",
       "       [8.85903695e-04]])"
      ]
     },
     "execution_count": 16,
     "metadata": {},
     "output_type": "execute_result"
    }
   ],
   "source": [
    "out = net.feedforward(np.reshape(test,(784, 1)))\n",
    "out"
   ]
  },
  {
   "cell_type": "code",
   "execution_count": 14,
   "metadata": {},
   "outputs": [
    {
     "data": {
      "image/png": "[encoded data removed]",
      "text/plain": [
       "<Figure size 432x288 with 1 Axes>"
      ]
     },
     "metadata": {
      "needs_background": "light"
     },
     "output_type": "display_data"
    }
   ],
   "source": [
    "plt.plot(out)\n",
    "plt.show()"
   ]
  }
 ],
 "metadata": {
  "kernelspec": {
   "display_name": "Python 3",
   "language": "python",
   "name": "python3"
  },
  "language_info": {
   "codemirror_mode": {
    "name": "ipython",
    "version": 3
   },
   "file_extension": ".py",
   "mimetype": "text/x-python",
   "name": "python",
   "nbconvert_exporter": "python",
   "pygments_lexer": "ipython3",
   "version": "3.8.10"
  }
 },
 "nbformat": 4,
 "nbformat_minor": 4
}
